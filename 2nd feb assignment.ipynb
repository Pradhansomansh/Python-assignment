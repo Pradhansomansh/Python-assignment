{
 "cells": [
  {
   "cell_type": "raw",
   "id": "0420384b",
   "metadata": {},
   "source": [
    "# Question 1 : What are the characteristics of the tuples? Is tuple immutable?\n",
    " "
   ]
  },
  {
   "cell_type": "raw",
   "id": "72a14cf7",
   "metadata": {},
   "source": [
    "The main characteristics of a tuple in Python are:\n",
    "\n",
    "1.Immutable: Once a tuple is created, its elements cannot be changed or modified.\n",
    "2.Ordered: The elements in a tuple have a defined order, and this order is maintained.\n",
    "3.Heterogeneous: Tuples can store elements of different data types.\n",
    "4.Indexed: Each element in a tuple can be retrieved by using its index number.\n",
    "5.Uses parentheses: Tuples are defined using parentheses, like this: (1, 2, 3).\n",
    "6.In summary, tuples are ordered, heterogeneous, and immutable collections of elements that can be indexed."
   ]
  },
  {
   "cell_type": "raw",
   "id": "e9bb8877",
   "metadata": {},
   "source": [
    "# Question 2: What are the two tuple methods in python? Give an example of each method. Give a reason why tuples have  only two in-built methods as compared to Lists"
   ]
  },
  {
   "cell_type": "code",
   "execution_count": 3,
   "id": "5815b341",
   "metadata": {},
   "outputs": [
    {
     "data": {
      "text/plain": [
       "2"
      ]
     },
     "execution_count": 3,
     "metadata": {},
     "output_type": "execute_result"
    }
   ],
   "source": [
    "# count() : returns the number of occurrences of a given element in the tuple.\n",
    "\n",
    "a=(1,2,3,4,5,6,7,8,1,2)\n",
    "a.count(1)"
   ]
  },
  {
   "cell_type": "code",
   "execution_count": 4,
   "id": "4b065416",
   "metadata": {},
   "outputs": [
    {
     "data": {
      "text/plain": [
       "5"
      ]
     },
     "execution_count": 4,
     "metadata": {},
     "output_type": "execute_result"
    }
   ],
   "source": [
    "# index() : returns the index of the first occurrence of a given element in the tuple.\n",
    "\n",
    "b=(\"pw\",\"data_science_masters\",\"pw\",1,2,3,6)\n",
    "b.index(3)"
   ]
  },
  {
   "cell_type": "raw",
   "id": "b4139740",
   "metadata": {},
   "source": [
    "# Question 3 : Which collection datatypes in python do not allow duplicate items? Write a code using a set to remove duplicates   from the given list.\n",
    "\n",
    "  List = [1, 1, 1, 2, 1, 3, 1, 4, 2, 1, 2, 2, 2, 3, 2, 4, 3, 1, 3, 2, 3, 3, 3, 4, 4, 1, 4, 2, 4, 3, 4, 4]"
   ]
  },
  {
   "cell_type": "code",
   "execution_count": 5,
   "id": "f00c0a9e",
   "metadata": {},
   "outputs": [
    {
     "data": {
      "text/plain": [
       "[1, 2, 3, 4]"
      ]
     },
     "execution_count": 5,
     "metadata": {},
     "output_type": "execute_result"
    }
   ],
   "source": [
    "# In Python, the set datatype does not allow duplicate items. To remove duplicates from a list, one can convert the list to a set, then back to a list:\n",
    "\n",
    "List = [1, 1, 1, 2, 1, 3, 1, 4, 2, 1, 2, 2, 2, 3, 2, 4, 3, 1, 3, 2, 3, 3, 3, 4, 4, 1, 4, 2, 4, 3, 4, 4]\n",
    "a=list(set(List))\n",
    "a"
   ]
  },
  {
   "cell_type": "raw",
   "id": "f8cae768",
   "metadata": {},
   "source": [
    "#Question 4 - Explain the difference between the union() and update() methods for a set. Give an example of each method."
   ]
  },
  {
   "cell_type": "code",
   "execution_count": 6,
   "id": "7ac37de6",
   "metadata": {},
   "outputs": [
    {
     "name": "stdout",
     "output_type": "stream",
     "text": [
      "{1, 2, 'b', 'd', 'e', 'a'}\n",
      "{1, 'a', 'b'}\n"
     ]
    }
   ],
   "source": [
    "# union(): This method returns a new set that contains all the unique elements from the original set as well \n",
    "# as the specified set or iterable. The original sets are not modified.\n",
    "# For Example: \n",
    "\n",
    "set_a={\"a\",\"b\",1}\n",
    "set_b={\"d\",\"e\",2}\n",
    "set_c=set_a.union(set_b)\n",
    "print(set_c)\n",
    "print(set_a)"
   ]
  },
  {
   "cell_type": "code",
   "execution_count": 7,
   "id": "4c03a0aa",
   "metadata": {},
   "outputs": [
    {
     "name": "stdout",
     "output_type": "stream",
     "text": [
      "None\n",
      "{1, 2, 'b', 'd', 'e', 'a'}\n"
     ]
    }
   ],
   "source": [
    "# update(): This method modifies the original set by adding all the unique elements from the specified set \n",
    "# or iterable to it.\n",
    "# For Example:\n",
    "\n",
    "set_a={\"a\",\"b\",1}\n",
    "set_b={\"d\",\"e\",2}\n",
    "set_c=set_a.update(set_b)\n",
    "print(set_c)\n",
    "print(set_a)\n"
   ]
  },
  {
   "cell_type": "raw",
   "id": "054708fc",
   "metadata": {},
   "source": [
    "# Question 5 : What is a dictionary? Give an example. Also, state whether a dictionary is ordered or unordered"
   ]
  },
  {
   "cell_type": "code",
   "execution_count": 9,
   "id": "99c0161e",
   "metadata": {},
   "outputs": [
    {
     "data": {
      "text/plain": [
       "{'company_name': 'pw',\n",
       " 'founder': 'alakh_pandey',\n",
       " 'company_type': 'edtech',\n",
       " 'company_valuation': '1billion$',\n",
       " 'headquarters': 'noida'}"
      ]
     },
     "execution_count": 9,
     "metadata": {},
     "output_type": "execute_result"
    }
   ],
   "source": [
    "# In programming, a dictionary is a collection of key-value pairs, where each key is associated with a corresponding value ,and the keys are unique within the dictionary. For example :-\n",
    "\n",
    "# In Python, dictionaries are unordered, which means that the order in which the key-value pairs are added to \n",
    "# the dictionary may not be preserved when you iterate over them.The order of the elements can be controlled by \n",
    "# sorting the keys, but by default, the order is not guaranteed.\n",
    "\n",
    "\n",
    "d={\"company_name\":\"pw\", \"founder\":\"alakh_pandey\" , \"company_type\":\"edtech\" ,\"company_valuation\":\"1billion$\" ,\n",
    "   \"headquarters\":\"noida\" }\n",
    "d"
   ]
  },
  {
   "cell_type": "raw",
   "id": "9d71fad9",
   "metadata": {},
   "source": [
    "Question 6 : Can we create a nested dictionary? If so, please give an example by creating a simple one-level nested dictionary."
   ]
  },
  {
   "cell_type": "code",
   "execution_count": 10,
   "id": "8377185e",
   "metadata": {},
   "outputs": [
    {
     "data": {
      "text/plain": [
       "{'study': {'science': 'pcm',\n",
       "  'arts': 'drawing',\n",
       "  'humanities': 'social studies '},\n",
       " 'sports': {'cricket_players': 11, 'badminton_singles_players': 2}}"
      ]
     },
     "execution_count": 10,
     "metadata": {},
     "output_type": "execute_result"
    }
   ],
   "source": [
    "# Yes, we can create a nested dictionary in Python. A nested dictionary is a dictionary inside a dictionary, where the value associated with each key is itself another dictionary. Here is an example of a simple one-level nested dictionary :-\n",
    "\n",
    "a={\"study\":{\"science\":\"pcm\",\"arts\":\"drawing\",\"humanities\":\"social studies \"} , \"sports\":{\"cricket_players\":11 ,\n",
    "    \"badminton_singles_players\":2}}\n",
    "a"
   ]
  },
  {
   "cell_type": "raw",
   "id": "05534f63",
   "metadata": {},
   "source": [
    "Question 7 : Using setdefault() method, create key named topics in the given dictionary and also add the value of the key as this list ['Python', 'Machine Learning’, 'Deep Learning']\n",
    "dict1 = {'language' : 'Python', 'course': 'Data Science Masters'}\n"
   ]
  },
  {
   "cell_type": "code",
   "execution_count": 11,
   "id": "6b8f05e6",
   "metadata": {},
   "outputs": [
    {
     "data": {
      "text/plain": [
       "{'language': 'Python',\n",
       " 'course': 'Data Science Masters',\n",
       " 'topics': ['Python', 'Machine Learning', 'Deep Learning']}"
      ]
     },
     "execution_count": 11,
     "metadata": {},
     "output_type": "execute_result"
    }
   ],
   "source": [
    "dict1 = {'language' : 'Python', 'course': 'Data Science Masters'}\n",
    "dict1.setdefault('topics',['Python','Machine Learning','Deep Learning'])\n",
    "dict1"
   ]
  },
  {
   "cell_type": "raw",
   "id": "a00adf08",
   "metadata": {},
   "source": [
    "Question 8 : What are the three view objects in dictionaries? Use the three in-built methods in python to display these three view objects for the given dictionary.\n",
    "\n",
    "dict1 = {'Sport': 'Cricket' , 'Teams': ['India', 'Australia', 'England', 'South Africa', 'Sri Lanka', 'New Zealand']}"
   ]
  },
  {
   "cell_type": "code",
   "execution_count": 12,
   "id": "78c6b494",
   "metadata": {},
   "outputs": [
    {
     "name": "stdout",
     "output_type": "stream",
     "text": [
      "dict_keys(['Sport', 'Teams'])\n",
      "dict_values(['Cricket', ['India', 'Australia', 'England', 'South Africa', 'Sri Lanka', 'New Zealand']])\n",
      "dict_items([('Sport', 'Cricket'), ('Teams', ['India', 'Australia', 'England', 'South Africa', 'Sri Lanka', 'New Zealand'])])\n"
     ]
    }
   ],
   "source": [
    "# In Python, dictionaries have three view objects:\n",
    "# keys(): returns a view object that displays a list of all the keys in the dictionary.\n",
    "# values(): returns a view object that displays a list of all the values in the dictionary.\n",
    "# items(): returns a view object that displays a list of all the items (keys and values) in the dictionary as a tuple.\n",
    "\n",
    "\n",
    "\n",
    "\n",
    "dict1 = {'Sport': 'Cricket' , 'Teams': ['India', 'Australia', 'England', 'South Africa','Sri Lanka', 'New Zealand']}\n",
    "print(dict1.keys())\n",
    "print(dict1.values())\n",
    "print(dict1.items())"
   ]
  },
  {
   "cell_type": "code",
   "execution_count": null,
   "id": "9f316cc0",
   "metadata": {},
   "outputs": [],
   "source": []
  }
 ],
 "metadata": {
  "kernelspec": {
   "display_name": "Python 3 (ipykernel)",
   "language": "python",
   "name": "python3"
  },
  "language_info": {
   "codemirror_mode": {
    "name": "ipython",
    "version": 3
   },
   "file_extension": ".py",
   "mimetype": "text/x-python",
   "name": "python",
   "nbconvert_exporter": "python",
   "pygments_lexer": "ipython3",
   "version": "3.11.2"
  }
 },
 "nbformat": 4,
 "nbformat_minor": 5
}
